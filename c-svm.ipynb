{
 "cells": [
  {
   "cell_type": "markdown",
   "id": "784a368a",
   "metadata": {},
   "source": [
    "# C-SVM"
   ]
  },
  {
   "cell_type": "markdown",
   "id": "1ab6720a",
   "metadata": {},
   "source": [
    "### 1. Introduction"
   ]
  },
  {
   "cell_type": "markdown",
   "id": "de9e7dad",
   "metadata": {},
   "source": [
    "In this notebook, we implemented a constrained SVM model based on the methologies introduced by the paper [A2-Maximizing accuracy under fairness constraints](https://arxiv.org/abs/1507.05259 ) to gain a better understanding of the trade-off between accuracy and fairness."
   ]
  },
  {
   "cell_type": "markdown",
   "id": "c0754b60",
   "metadata": {},
   "source": [
    "We used the [COMPAS dataset](https://github.com/propublica/compas-analysis/blob/master/compas-scores-two-years.csv), which contains the criminal history, jail and prison time, demographics, and COMPAS risk scores for defendants from Broward County from 2013 to 2014. \n",
    "* Binary class label (y): \"two_year_recid\" column, indicating whether the defendant recificated within two years\n",
    "* Binary sensitive attribute (z): \"race\" column, Caucasian and African-American"
   ]
  },
  {
   "cell_type": "markdown",
   "id": "3fe9431c",
   "metadata": {},
   "source": [
    "### 2. Data Preprocessing"
   ]
  },
  {
   "cell_type": "code",
   "execution_count": 1,
   "id": "b5c8d68c",
   "metadata": {},
   "outputs": [],
   "source": [
    "import numpy as np\n",
    "from numpy.core.fromnumeric import transpose\n",
    "import pandas as pd\n",
    "from sklearn.model_selection import train_test_split\n",
    "from sklearn import preprocessing\n",
    "import scipy\n",
    "from scipy.optimize import minimize\n",
    "from numpy import linalg as LA"
   ]
  },
  {
   "cell_type": "code",
   "execution_count": 2,
   "id": "238f0bbf",
   "metadata": {
    "scrolled": true
   },
   "outputs": [
    {
     "data": {
      "text/html": [
       "<div>\n",
       "<style scoped>\n",
       "    .dataframe tbody tr th:only-of-type {\n",
       "        vertical-align: middle;\n",
       "    }\n",
       "\n",
       "    .dataframe tbody tr th {\n",
       "        vertical-align: top;\n",
       "    }\n",
       "\n",
       "    .dataframe thead th {\n",
       "        text-align: right;\n",
       "    }\n",
       "</style>\n",
       "<table border=\"1\" class=\"dataframe\">\n",
       "  <thead>\n",
       "    <tr style=\"text-align: right;\">\n",
       "      <th></th>\n",
       "      <th>id</th>\n",
       "      <th>name</th>\n",
       "      <th>first</th>\n",
       "      <th>last</th>\n",
       "      <th>compas_screening_date</th>\n",
       "      <th>sex</th>\n",
       "      <th>dob</th>\n",
       "      <th>age</th>\n",
       "      <th>age_cat</th>\n",
       "      <th>race</th>\n",
       "      <th>juv_fel_count</th>\n",
       "      <th>decile_score</th>\n",
       "      <th>juv_misd_count</th>\n",
       "      <th>juv_other_count</th>\n",
       "      <th>priors_count</th>\n",
       "      <th>days_b_screening_arrest</th>\n",
       "      <th>c_jail_in</th>\n",
       "      <th>c_jail_out</th>\n",
       "      <th>c_case_number</th>\n",
       "      <th>c_offense_date</th>\n",
       "      <th>c_arrest_date</th>\n",
       "      <th>c_days_from_compas</th>\n",
       "      <th>c_charge_degree</th>\n",
       "      <th>c_charge_desc</th>\n",
       "      <th>is_recid</th>\n",
       "      <th>r_case_number</th>\n",
       "      <th>r_charge_degree</th>\n",
       "      <th>r_days_from_arrest</th>\n",
       "      <th>r_offense_date</th>\n",
       "      <th>r_charge_desc</th>\n",
       "      <th>r_jail_in</th>\n",
       "      <th>r_jail_out</th>\n",
       "      <th>violent_recid</th>\n",
       "      <th>is_violent_recid</th>\n",
       "      <th>vr_case_number</th>\n",
       "      <th>vr_charge_degree</th>\n",
       "      <th>vr_offense_date</th>\n",
       "      <th>vr_charge_desc</th>\n",
       "      <th>type_of_assessment</th>\n",
       "      <th>decile_score.1</th>\n",
       "      <th>score_text</th>\n",
       "      <th>screening_date</th>\n",
       "      <th>v_type_of_assessment</th>\n",
       "      <th>v_decile_score</th>\n",
       "      <th>v_score_text</th>\n",
       "      <th>v_screening_date</th>\n",
       "      <th>in_custody</th>\n",
       "      <th>out_custody</th>\n",
       "      <th>priors_count.1</th>\n",
       "      <th>start</th>\n",
       "      <th>end</th>\n",
       "      <th>event</th>\n",
       "      <th>two_year_recid</th>\n",
       "    </tr>\n",
       "  </thead>\n",
       "  <tbody>\n",
       "    <tr>\n",
       "      <th>0</th>\n",
       "      <td>1</td>\n",
       "      <td>miguel hernandez</td>\n",
       "      <td>miguel</td>\n",
       "      <td>hernandez</td>\n",
       "      <td>2013-08-14</td>\n",
       "      <td>Male</td>\n",
       "      <td>1947-04-18</td>\n",
       "      <td>69</td>\n",
       "      <td>Greater than 45</td>\n",
       "      <td>Other</td>\n",
       "      <td>0</td>\n",
       "      <td>1</td>\n",
       "      <td>0</td>\n",
       "      <td>0</td>\n",
       "      <td>0</td>\n",
       "      <td>-1.0</td>\n",
       "      <td>2013-08-13 06:03:42</td>\n",
       "      <td>2013-08-14 05:41:20</td>\n",
       "      <td>13011352CF10A</td>\n",
       "      <td>2013-08-13</td>\n",
       "      <td>NaN</td>\n",
       "      <td>1.0</td>\n",
       "      <td>F</td>\n",
       "      <td>Aggravated Assault w/Firearm</td>\n",
       "      <td>0</td>\n",
       "      <td>NaN</td>\n",
       "      <td>NaN</td>\n",
       "      <td>NaN</td>\n",
       "      <td>NaN</td>\n",
       "      <td>NaN</td>\n",
       "      <td>NaN</td>\n",
       "      <td>NaN</td>\n",
       "      <td>NaN</td>\n",
       "      <td>0</td>\n",
       "      <td>NaN</td>\n",
       "      <td>NaN</td>\n",
       "      <td>NaN</td>\n",
       "      <td>NaN</td>\n",
       "      <td>Risk of Recidivism</td>\n",
       "      <td>1</td>\n",
       "      <td>Low</td>\n",
       "      <td>2013-08-14</td>\n",
       "      <td>Risk of Violence</td>\n",
       "      <td>1</td>\n",
       "      <td>Low</td>\n",
       "      <td>2013-08-14</td>\n",
       "      <td>2014-07-07</td>\n",
       "      <td>2014-07-14</td>\n",
       "      <td>0</td>\n",
       "      <td>0</td>\n",
       "      <td>327</td>\n",
       "      <td>0</td>\n",
       "      <td>0</td>\n",
       "    </tr>\n",
       "    <tr>\n",
       "      <th>1</th>\n",
       "      <td>3</td>\n",
       "      <td>kevon dixon</td>\n",
       "      <td>kevon</td>\n",
       "      <td>dixon</td>\n",
       "      <td>2013-01-27</td>\n",
       "      <td>Male</td>\n",
       "      <td>1982-01-22</td>\n",
       "      <td>34</td>\n",
       "      <td>25 - 45</td>\n",
       "      <td>African-American</td>\n",
       "      <td>0</td>\n",
       "      <td>3</td>\n",
       "      <td>0</td>\n",
       "      <td>0</td>\n",
       "      <td>0</td>\n",
       "      <td>-1.0</td>\n",
       "      <td>2013-01-26 03:45:27</td>\n",
       "      <td>2013-02-05 05:36:53</td>\n",
       "      <td>13001275CF10A</td>\n",
       "      <td>2013-01-26</td>\n",
       "      <td>NaN</td>\n",
       "      <td>1.0</td>\n",
       "      <td>F</td>\n",
       "      <td>Felony Battery w/Prior Convict</td>\n",
       "      <td>1</td>\n",
       "      <td>13009779CF10A</td>\n",
       "      <td>(F3)</td>\n",
       "      <td>NaN</td>\n",
       "      <td>2013-07-05</td>\n",
       "      <td>Felony Battery (Dom Strang)</td>\n",
       "      <td>NaN</td>\n",
       "      <td>NaN</td>\n",
       "      <td>NaN</td>\n",
       "      <td>1</td>\n",
       "      <td>13009779CF10A</td>\n",
       "      <td>(F3)</td>\n",
       "      <td>2013-07-05</td>\n",
       "      <td>Felony Battery (Dom Strang)</td>\n",
       "      <td>Risk of Recidivism</td>\n",
       "      <td>3</td>\n",
       "      <td>Low</td>\n",
       "      <td>2013-01-27</td>\n",
       "      <td>Risk of Violence</td>\n",
       "      <td>1</td>\n",
       "      <td>Low</td>\n",
       "      <td>2013-01-27</td>\n",
       "      <td>2013-01-26</td>\n",
       "      <td>2013-02-05</td>\n",
       "      <td>0</td>\n",
       "      <td>9</td>\n",
       "      <td>159</td>\n",
       "      <td>1</td>\n",
       "      <td>1</td>\n",
       "    </tr>\n",
       "    <tr>\n",
       "      <th>2</th>\n",
       "      <td>4</td>\n",
       "      <td>ed philo</td>\n",
       "      <td>ed</td>\n",
       "      <td>philo</td>\n",
       "      <td>2013-04-14</td>\n",
       "      <td>Male</td>\n",
       "      <td>1991-05-14</td>\n",
       "      <td>24</td>\n",
       "      <td>Less than 25</td>\n",
       "      <td>African-American</td>\n",
       "      <td>0</td>\n",
       "      <td>4</td>\n",
       "      <td>0</td>\n",
       "      <td>1</td>\n",
       "      <td>4</td>\n",
       "      <td>-1.0</td>\n",
       "      <td>2013-04-13 04:58:34</td>\n",
       "      <td>2013-04-14 07:02:04</td>\n",
       "      <td>13005330CF10A</td>\n",
       "      <td>2013-04-13</td>\n",
       "      <td>NaN</td>\n",
       "      <td>1.0</td>\n",
       "      <td>F</td>\n",
       "      <td>Possession of Cocaine</td>\n",
       "      <td>1</td>\n",
       "      <td>13011511MM10A</td>\n",
       "      <td>(M1)</td>\n",
       "      <td>0.0</td>\n",
       "      <td>2013-06-16</td>\n",
       "      <td>Driving Under The Influence</td>\n",
       "      <td>2013-06-16</td>\n",
       "      <td>2013-06-16</td>\n",
       "      <td>NaN</td>\n",
       "      <td>0</td>\n",
       "      <td>NaN</td>\n",
       "      <td>NaN</td>\n",
       "      <td>NaN</td>\n",
       "      <td>NaN</td>\n",
       "      <td>Risk of Recidivism</td>\n",
       "      <td>4</td>\n",
       "      <td>Low</td>\n",
       "      <td>2013-04-14</td>\n",
       "      <td>Risk of Violence</td>\n",
       "      <td>3</td>\n",
       "      <td>Low</td>\n",
       "      <td>2013-04-14</td>\n",
       "      <td>2013-06-16</td>\n",
       "      <td>2013-06-16</td>\n",
       "      <td>4</td>\n",
       "      <td>0</td>\n",
       "      <td>63</td>\n",
       "      <td>0</td>\n",
       "      <td>1</td>\n",
       "    </tr>\n",
       "    <tr>\n",
       "      <th>3</th>\n",
       "      <td>5</td>\n",
       "      <td>marcu brown</td>\n",
       "      <td>marcu</td>\n",
       "      <td>brown</td>\n",
       "      <td>2013-01-13</td>\n",
       "      <td>Male</td>\n",
       "      <td>1993-01-21</td>\n",
       "      <td>23</td>\n",
       "      <td>Less than 25</td>\n",
       "      <td>African-American</td>\n",
       "      <td>0</td>\n",
       "      <td>8</td>\n",
       "      <td>1</td>\n",
       "      <td>0</td>\n",
       "      <td>1</td>\n",
       "      <td>NaN</td>\n",
       "      <td>NaN</td>\n",
       "      <td>NaN</td>\n",
       "      <td>13000570CF10A</td>\n",
       "      <td>2013-01-12</td>\n",
       "      <td>NaN</td>\n",
       "      <td>1.0</td>\n",
       "      <td>F</td>\n",
       "      <td>Possession of Cannabis</td>\n",
       "      <td>0</td>\n",
       "      <td>NaN</td>\n",
       "      <td>NaN</td>\n",
       "      <td>NaN</td>\n",
       "      <td>NaN</td>\n",
       "      <td>NaN</td>\n",
       "      <td>NaN</td>\n",
       "      <td>NaN</td>\n",
       "      <td>NaN</td>\n",
       "      <td>0</td>\n",
       "      <td>NaN</td>\n",
       "      <td>NaN</td>\n",
       "      <td>NaN</td>\n",
       "      <td>NaN</td>\n",
       "      <td>Risk of Recidivism</td>\n",
       "      <td>8</td>\n",
       "      <td>High</td>\n",
       "      <td>2013-01-13</td>\n",
       "      <td>Risk of Violence</td>\n",
       "      <td>6</td>\n",
       "      <td>Medium</td>\n",
       "      <td>2013-01-13</td>\n",
       "      <td>NaN</td>\n",
       "      <td>NaN</td>\n",
       "      <td>1</td>\n",
       "      <td>0</td>\n",
       "      <td>1174</td>\n",
       "      <td>0</td>\n",
       "      <td>0</td>\n",
       "    </tr>\n",
       "    <tr>\n",
       "      <th>4</th>\n",
       "      <td>6</td>\n",
       "      <td>bouthy pierrelouis</td>\n",
       "      <td>bouthy</td>\n",
       "      <td>pierrelouis</td>\n",
       "      <td>2013-03-26</td>\n",
       "      <td>Male</td>\n",
       "      <td>1973-01-22</td>\n",
       "      <td>43</td>\n",
       "      <td>25 - 45</td>\n",
       "      <td>Other</td>\n",
       "      <td>0</td>\n",
       "      <td>1</td>\n",
       "      <td>0</td>\n",
       "      <td>0</td>\n",
       "      <td>2</td>\n",
       "      <td>NaN</td>\n",
       "      <td>NaN</td>\n",
       "      <td>NaN</td>\n",
       "      <td>12014130CF10A</td>\n",
       "      <td>NaN</td>\n",
       "      <td>2013-01-09</td>\n",
       "      <td>76.0</td>\n",
       "      <td>F</td>\n",
       "      <td>arrest case no charge</td>\n",
       "      <td>0</td>\n",
       "      <td>NaN</td>\n",
       "      <td>NaN</td>\n",
       "      <td>NaN</td>\n",
       "      <td>NaN</td>\n",
       "      <td>NaN</td>\n",
       "      <td>NaN</td>\n",
       "      <td>NaN</td>\n",
       "      <td>NaN</td>\n",
       "      <td>0</td>\n",
       "      <td>NaN</td>\n",
       "      <td>NaN</td>\n",
       "      <td>NaN</td>\n",
       "      <td>NaN</td>\n",
       "      <td>Risk of Recidivism</td>\n",
       "      <td>1</td>\n",
       "      <td>Low</td>\n",
       "      <td>2013-03-26</td>\n",
       "      <td>Risk of Violence</td>\n",
       "      <td>1</td>\n",
       "      <td>Low</td>\n",
       "      <td>2013-03-26</td>\n",
       "      <td>NaN</td>\n",
       "      <td>NaN</td>\n",
       "      <td>2</td>\n",
       "      <td>0</td>\n",
       "      <td>1102</td>\n",
       "      <td>0</td>\n",
       "      <td>0</td>\n",
       "    </tr>\n",
       "  </tbody>\n",
       "</table>\n",
       "</div>"
      ],
      "text/plain": [
       "   id                name   first         last compas_screening_date   sex  \\\n",
       "0   1    miguel hernandez  miguel    hernandez            2013-08-14  Male   \n",
       "1   3         kevon dixon   kevon        dixon            2013-01-27  Male   \n",
       "2   4            ed philo      ed        philo            2013-04-14  Male   \n",
       "3   5         marcu brown   marcu        brown            2013-01-13  Male   \n",
       "4   6  bouthy pierrelouis  bouthy  pierrelouis            2013-03-26  Male   \n",
       "\n",
       "          dob  age          age_cat              race  juv_fel_count  \\\n",
       "0  1947-04-18   69  Greater than 45             Other              0   \n",
       "1  1982-01-22   34          25 - 45  African-American              0   \n",
       "2  1991-05-14   24     Less than 25  African-American              0   \n",
       "3  1993-01-21   23     Less than 25  African-American              0   \n",
       "4  1973-01-22   43          25 - 45             Other              0   \n",
       "\n",
       "   decile_score  juv_misd_count  juv_other_count  priors_count  \\\n",
       "0             1               0                0             0   \n",
       "1             3               0                0             0   \n",
       "2             4               0                1             4   \n",
       "3             8               1                0             1   \n",
       "4             1               0                0             2   \n",
       "\n",
       "   days_b_screening_arrest            c_jail_in           c_jail_out  \\\n",
       "0                     -1.0  2013-08-13 06:03:42  2013-08-14 05:41:20   \n",
       "1                     -1.0  2013-01-26 03:45:27  2013-02-05 05:36:53   \n",
       "2                     -1.0  2013-04-13 04:58:34  2013-04-14 07:02:04   \n",
       "3                      NaN                  NaN                  NaN   \n",
       "4                      NaN                  NaN                  NaN   \n",
       "\n",
       "   c_case_number c_offense_date c_arrest_date  c_days_from_compas  \\\n",
       "0  13011352CF10A     2013-08-13           NaN                 1.0   \n",
       "1  13001275CF10A     2013-01-26           NaN                 1.0   \n",
       "2  13005330CF10A     2013-04-13           NaN                 1.0   \n",
       "3  13000570CF10A     2013-01-12           NaN                 1.0   \n",
       "4  12014130CF10A            NaN    2013-01-09                76.0   \n",
       "\n",
       "  c_charge_degree                   c_charge_desc  is_recid  r_case_number  \\\n",
       "0               F    Aggravated Assault w/Firearm         0            NaN   \n",
       "1               F  Felony Battery w/Prior Convict         1  13009779CF10A   \n",
       "2               F           Possession of Cocaine         1  13011511MM10A   \n",
       "3               F          Possession of Cannabis         0            NaN   \n",
       "4               F           arrest case no charge         0            NaN   \n",
       "\n",
       "  r_charge_degree  r_days_from_arrest r_offense_date  \\\n",
       "0             NaN                 NaN            NaN   \n",
       "1            (F3)                 NaN     2013-07-05   \n",
       "2            (M1)                 0.0     2013-06-16   \n",
       "3             NaN                 NaN            NaN   \n",
       "4             NaN                 NaN            NaN   \n",
       "\n",
       "                 r_charge_desc   r_jail_in  r_jail_out  violent_recid  \\\n",
       "0                          NaN         NaN         NaN            NaN   \n",
       "1  Felony Battery (Dom Strang)         NaN         NaN            NaN   \n",
       "2  Driving Under The Influence  2013-06-16  2013-06-16            NaN   \n",
       "3                          NaN         NaN         NaN            NaN   \n",
       "4                          NaN         NaN         NaN            NaN   \n",
       "\n",
       "   is_violent_recid vr_case_number vr_charge_degree vr_offense_date  \\\n",
       "0                 0            NaN              NaN             NaN   \n",
       "1                 1  13009779CF10A             (F3)      2013-07-05   \n",
       "2                 0            NaN              NaN             NaN   \n",
       "3                 0            NaN              NaN             NaN   \n",
       "4                 0            NaN              NaN             NaN   \n",
       "\n",
       "                vr_charge_desc  type_of_assessment  decile_score.1 score_text  \\\n",
       "0                          NaN  Risk of Recidivism               1        Low   \n",
       "1  Felony Battery (Dom Strang)  Risk of Recidivism               3        Low   \n",
       "2                          NaN  Risk of Recidivism               4        Low   \n",
       "3                          NaN  Risk of Recidivism               8       High   \n",
       "4                          NaN  Risk of Recidivism               1        Low   \n",
       "\n",
       "  screening_date v_type_of_assessment  v_decile_score v_score_text  \\\n",
       "0     2013-08-14     Risk of Violence               1          Low   \n",
       "1     2013-01-27     Risk of Violence               1          Low   \n",
       "2     2013-04-14     Risk of Violence               3          Low   \n",
       "3     2013-01-13     Risk of Violence               6       Medium   \n",
       "4     2013-03-26     Risk of Violence               1          Low   \n",
       "\n",
       "  v_screening_date  in_custody out_custody  priors_count.1  start   end  \\\n",
       "0       2013-08-14  2014-07-07  2014-07-14               0      0   327   \n",
       "1       2013-01-27  2013-01-26  2013-02-05               0      9   159   \n",
       "2       2013-04-14  2013-06-16  2013-06-16               4      0    63   \n",
       "3       2013-01-13         NaN         NaN               1      0  1174   \n",
       "4       2013-03-26         NaN         NaN               2      0  1102   \n",
       "\n",
       "   event  two_year_recid  \n",
       "0      0               0  \n",
       "1      1               1  \n",
       "2      0               1  \n",
       "3      0               0  \n",
       "4      0               0  "
      ]
     },
     "execution_count": 2,
     "metadata": {},
     "output_type": "execute_result"
    }
   ],
   "source": [
    "df = pd.read_csv('compas-scores-two-years.csv')\n",
    "pd.set_option('display.max_columns', None)\n",
    "df.head()"
   ]
  },
  {
   "cell_type": "markdown",
   "id": "7021544b",
   "metadata": {},
   "source": [
    "We encoded the binary sensitive attribute such that African-American=1, Caucasian = 0."
   ]
  },
  {
   "cell_type": "code",
   "execution_count": 3,
   "id": "e796c9c5",
   "metadata": {},
   "outputs": [],
   "source": [
    "df['race'] = df['race'].replace('African-American', 1).replace('Caucasian', 0)\n",
    "df = df[(df['race'] == 0) | (df['race'] == 1)]"
   ]
  },
  {
   "cell_type": "markdown",
   "id": "f49036d2",
   "metadata": {},
   "source": [
    "We also transformed four other attributes into more easily understandable and ready-to-use formats."
   ]
  },
  {
   "cell_type": "code",
   "execution_count": 4,
   "id": "6374d31f",
   "metadata": {},
   "outputs": [],
   "source": [
    "df['sex'] = df['sex'].replace('Male', 1).replace('Female', 0)\n",
    "df['score_text'] = df['score_text'].replace('High', 1).replace('Medium', 0).replace('Low', -1)\n",
    "df['c_charge_degree'] = df['c_charge_degree'].replace('M',1).replace('F',0)\n",
    "df['days_in_jail'] = (pd.to_datetime(df['c_jail_out']) - pd.to_datetime(df['c_jail_in'])).dt.days"
   ]
  },
  {
   "cell_type": "markdown",
   "id": "0df3bc3c",
   "metadata": {},
   "source": [
    "Our column selection is consistent with that of our LFR model, which is based on the correlation between each attribute."
   ]
  },
  {
   "cell_type": "code",
   "execution_count": 6,
   "id": "108dd356",
   "metadata": {},
   "outputs": [],
   "source": [
    "X = df[['age', 'c_charge_degree', 'score_text', 'sex','c_days_from_compas','is_violent_recid','v_decile_score',\n",
    "    'priors_count','juv_fel_count', 'juv_misd_count','juv_other_count','days_b_screening_arrest', \n",
    "   'decile_score', 'is_recid']]\n",
    "Z = df['race']\n",
    "y = df['two_year_recid']"
   ]
  },
  {
   "cell_type": "markdown",
   "id": "1c32ce1a",
   "metadata": {},
   "source": [
    "Split the train and test sets. (training: testing =  2:1) "
   ]
  },
  {
   "cell_type": "code",
   "execution_count": 7,
   "id": "67bbce2c",
   "metadata": {},
   "outputs": [],
   "source": [
    "X_train, X_test, Z_train, Z_test, y_train, y_test = train_test_split( X, Z, y, test_size=0.33, random_state=42)"
   ]
  },
  {
   "cell_type": "markdown",
   "id": "8a03a044",
   "metadata": {},
   "source": [
    "Scale the training and testing data"
   ]
  },
  {
   "cell_type": "code",
   "execution_count": 8,
   "id": "6bc6c497",
   "metadata": {},
   "outputs": [],
   "source": [
    "scaler_train = preprocessing.StandardScaler().fit(X_train)\n",
    "scaler_test = preprocessing.StandardScaler().fit(X_test)"
   ]
  },
  {
   "cell_type": "markdown",
   "id": "df0142c8",
   "metadata": {},
   "source": [
    "### 3. Implementation"
   ]
  },
  {
   "cell_type": "markdown",
   "id": "8e4c5265",
   "metadata": {},
   "source": [
    "We implemented equation 9 from paper. Mathematically, we hope to minimize the loss function by solving the following quadratic program: "
   ]
  },
  {
   "cell_type": "markdown",
   "id": "19e8770b",
   "metadata": {},
   "source": [
    "<center> minimize $|\\theta|^2 + C \\sum_{i=1}^{n} \\xi_i$\n",
    "    <br>\n",
    " subject to $y_i \\theta^T x_i \\geq 1-\\xi_i, \\forall i \\in {1,...,n}$\n",
    "    <br>\n",
    " $\\xi_i \\geq 0, \\forall i\\in{1,...,n}$\n",
    "    <br>\n",
    " $\\frac{1}{N} \\sum_{i=1}^{N} (Z_i - \\bar{Z}) \\theta^T x_i \\leq c$\n",
    "   <br>\n",
    "  $\\frac{1}{N} \\sum_{i=1}^{N} (Z_i - \\bar{Z}) \\theta^T x_i \\geq -c$"
   ]
  },
  {
   "cell_type": "code",
   "execution_count": 9,
   "id": "bda7f0a6",
   "metadata": {},
   "outputs": [],
   "source": [
    "k = X_train.shape[1]\n",
    "N = X_train.shape[0]\n",
    "\n",
    "def upper_theta_constraint(params, X, Z, c, k):\n",
    "    theta = params[:k]\n",
    "    return ((-1/len(Z)) * np.matmul(np.matmul(transpose(Z - Z.mean()), X), theta)) + c\n",
    "\n",
    "def lower_theta_constraint(params, X, Z, c, k):\n",
    "    theta = params[:k]\n",
    "    return ((np.matmul(np.matmul(transpose(Z - Z.mean()), X), theta))/len(Z)) + c  \n",
    "\n",
    "def phi_constraint(params,k):\n",
    "  #theta = params[:k]\n",
    "    phi = params[k:]\n",
    "    return phi \n",
    "\n",
    "def phi_constraint2(params, k, y , X):\n",
    "    theta = params[:k]\n",
    "    phi = params[k:]\n",
    "    return np.dot( transpose(theta), np.matmul(y,X)) - 1 + sum(phi)\n",
    "\n",
    "def svm_loss(params, X, y, C, k):\n",
    "    theta = params[:k]\n",
    "    phi = params[k:]\n",
    "    y_hat = y * np.dot(X,theta) \n",
    "    y_hat = np.maximum(np.zeros_like(y_hat), (1-y_hat))     \n",
    "    return C*sum(y_hat)"
   ]
  },
  {
   "cell_type": "markdown",
   "id": "ea167941",
   "metadata": {},
   "source": [
    "We use the [scipy.optimize.minimize](https://docs.scipy.org/doc/scipy/reference/generated/scipy.optimize.minimize.html) function from the scipy library to solve the optimization problem. "
   ]
  },
  {
   "cell_type": "code",
   "execution_count": 10,
   "id": "24c4dd6e",
   "metadata": {},
   "outputs": [],
   "source": [
    "theta = np.array(np.random.uniform(size=k)).reshape(-1, 1)\n",
    "phi = np.array(np.random.uniform(size=N))\n",
    "params = np.append(theta.flatten(), phi.flatten())\n",
    "X_train_scaled = scaler_train.transform(X_train)\n",
    "\n",
    "res = scipy.optimize.minimize(svm_loss, \n",
    "                              x0=params, \n",
    "                              args=(X_train_scaled, y_train, 0.8, k), \n",
    "                              method='SLSQP', \n",
    "                              constraints=({'type': 'ineq', 'fun': upper_theta_constraint, 'args': (X_train_scaled, Z_train , 0.8, k)},\n",
    "                                     {'type': 'ineq', 'fun': lower_theta_constraint, 'args': (X_train_scaled, Z_train , 0.8, k)},\n",
    "                                      {'type': 'ineq', 'fun': phi_constraint, 'args': [k]},\n",
    "                                     {'type': 'ineq', 'fun': phi_constraint2, 'args': [k, y_train, scaler_train.transform(X_train)]}\n",
    "                                    ))"
   ]
  },
  {
   "cell_type": "markdown",
   "id": "ab37044e",
   "metadata": {},
   "source": [
    "We output the optimal parameters of the svm and save to a csv file. "
   ]
  },
  {
   "cell_type": "code",
   "execution_count": 11,
   "id": "baf11abb",
   "metadata": {},
   "outputs": [],
   "source": [
    "pd.DataFrame(res.x).to_csv('svm_parameters.csv')"
   ]
  },
  {
   "cell_type": "code",
   "execution_count": 12,
   "id": "f7e552ed",
   "metadata": {},
   "outputs": [],
   "source": [
    "k = X_train_scaled.shape[1]\n",
    "N = X_train_scaled.shape[0]\n",
    "\n",
    "params_hat = pd.read_csv('svm_parameters.csv')\n",
    "theta_hat = params_hat['0'][0:k]"
   ]
  },
  {
   "cell_type": "markdown",
   "id": "a1b72386",
   "metadata": {},
   "source": [
    "### 4. Evaluation"
   ]
  },
  {
   "cell_type": "markdown",
   "id": "4f0ab653",
   "metadata": {},
   "source": [
    "Using the retrieved theta parameter, we can generate the prediction for the testing data. "
   ]
  },
  {
   "cell_type": "code",
   "execution_count": 13,
   "id": "f015e845",
   "metadata": {},
   "outputs": [],
   "source": [
    "X_test_scaled = scaler_test.transform(X_test)\n",
    "yhat_test = np.matmul(theta_hat, np.transpose(X_test_scaled))"
   ]
  },
  {
   "cell_type": "code",
   "execution_count": 14,
   "id": "57e4a2b7",
   "metadata": {},
   "outputs": [
    {
     "data": {
      "text/plain": [
       "array([-0.11023027, -2.81416683, -0.50377019, ..., -0.15427302,\n",
       "       -0.33559099, -0.17226149])"
      ]
     },
     "execution_count": 14,
     "metadata": {},
     "output_type": "execute_result"
    }
   ],
   "source": [
    "yhat_test[yhat_test < 0]"
   ]
  },
  {
   "cell_type": "markdown",
   "id": "b2aa6b37",
   "metadata": {},
   "source": [
    "Now, we evaluate our model using the following 4 different metrics: \n",
    "- **Accuracy:** How often the model makes correct predictions.\n",
    "- **Calibration:** Accuracy difference between two race groups \n",
    "- **Equality of odds:** Whether the odds of the positive outcome are equal for all groups or subpopulations being considered, regardless of other variables such as race, gender, or age.\n",
    "- **Parity:** Whether the performance of the model is consistent across different subgroups of the population"
   ]
  },
  {
   "cell_type": "markdown",
   "id": "fb6ab6e3",
   "metadata": {},
   "source": [
    "#### Metric 1: Accuracy "
   ]
  },
  {
   "cell_type": "markdown",
   "id": "dd6ecb33",
   "metadata": {},
   "source": [
    "The overall accuracy of our model is 71%"
   ]
  },
  {
   "cell_type": "code",
   "execution_count": 15,
   "id": "dac58677",
   "metadata": {},
   "outputs": [
    {
     "name": "stdout",
     "output_type": "stream",
     "text": [
      "Accuracy of C-SVM:  0.7113300492610838\n"
     ]
    }
   ],
   "source": [
    "acc = len(yhat_test[((yhat_test > 0) & (y_test > 0)) | ((yhat_test <= 0) & (y_test <= 0))])/len(yhat_test)\n",
    "print('Accuracy of C-SVM: ', acc)"
   ]
  },
  {
   "cell_type": "markdown",
   "id": "42097955",
   "metadata": {},
   "source": [
    "#### Metric 2: Calibration "
   ]
  },
  {
   "cell_type": "markdown",
   "id": "c3010a94",
   "metadata": {},
   "source": [
    "Our model is able to predict both groups with similar accuracy scores."
   ]
  },
  {
   "cell_type": "code",
   "execution_count": 16,
   "id": "2d2f6797",
   "metadata": {},
   "outputs": [
    {
     "name": "stdout",
     "output_type": "stream",
     "text": [
      "Accuracy for African American:  0.7040065412919051\n",
      "Accuracy for Caucasian:  0.7224287484510533\n",
      "Calibration:  -0.01842220715914822\n"
     ]
    }
   ],
   "source": [
    "odds_pos = yhat_test[Z_test == 1]\n",
    "y_pos = y_test[Z_test == 1]\n",
    "acc_afr = len(odds_pos[((odds_pos > 0) & (y_pos > 0)) | ((odds_pos<= 0) & (y_pos <= 0))])/len(odds_pos)\n",
    "print('Accuracy for African American: ', acc_afr)\n",
    "\n",
    "odds_neg = yhat_test[Z_test == 0]\n",
    "y_neg = y_test[Z_test == 0]\n",
    "acc_cau= len(odds_neg[((odds_neg > 0) & (y_neg > 0)) | ((odds_neg <= 0) & (y_neg<= 0))])/len(odds_neg)\n",
    "print('Accuracy for Caucasian: ', acc_cau)\n",
    "\n",
    "print('Calibration: ', acc_afr - acc_cau)"
   ]
  },
  {
   "cell_type": "markdown",
   "id": "f0e8da56",
   "metadata": {},
   "source": [
    "#### Metric 3: Equality of odds"
   ]
  },
  {
   "cell_type": "markdown",
   "id": "625c1381",
   "metadata": {},
   "source": [
    "Our model predicts the nonprotected group within the positive outcome with about 80% of the time, and protected group within the positive outcome with 47.5%. For negative target, it predicts 20% for nonprotected group and about 8% for protected group."
   ]
  },
  {
   "cell_type": "code",
   "execution_count": 17,
   "id": "ee42f0b7",
   "metadata": {},
   "outputs": [
    {
     "name": "stdout",
     "output_type": "stream",
     "text": [
      "Positive outcome - African American: 0.7996485061511424\n",
      "Negative outcome - African American: 0.2\n",
      "Positive outcome - Caucasian: 0.4752475247524752\n",
      "Negative outcome - Caucasian: 0.07936507936507936\n"
     ]
    }
   ],
   "source": [
    "pos_afr = len(y_pos[(odds_pos > 0) & (y_pos > 0)]) / len(y_pos[odds_pos > 0])\n",
    "pos_cau = len(y_pos[(odds_pos> 0) & (y_pos <= 0)]) / len(y_pos[y_pos <= 0])\n",
    "print('Positive outcome - African American:', pos_afr)\n",
    "print('Negative outcome - African American:', pos_cau)\n",
    "\n",
    "neg_afr = len(y_neg[(odds_neg > 0) & (y_neg > 0)]) / len(y_neg[y_neg > 0])\n",
    "neg_cau = len(y_neg[(odds_neg> 0) & (y_neg <= 0)]) / len(y_neg[y_neg <= 0])\n",
    "print('Positive outcome - Caucasian:', neg_afr)\n",
    "print('Negative outcome - Caucasian:', neg_cau)"
   ]
  },
  {
   "cell_type": "markdown",
   "id": "71389570",
   "metadata": {},
   "source": [
    "#### Metric 4: Parity"
   ]
  },
  {
   "cell_type": "markdown",
   "id": "0950436d",
   "metadata": {},
   "source": [
    "Our model predicts that 46% of nonprotected group will return to criminal behavior (positive outcome), while 22% of protected group will return to criminal behavior. \n",
    "We compared our prediction with the true outcomes, which is 53% vs. 37% respectively. "
   ]
  },
  {
   "cell_type": "code",
   "execution_count": 18,
   "id": "43c5460d",
   "metadata": {},
   "outputs": [
    {
     "name": "stdout",
     "output_type": "stream",
     "text": [
      "Positive outcome - African American: 0.4652493867538839\n",
      "Positive outcome - Caucasian: 0.22800495662949194\n"
     ]
    }
   ],
   "source": [
    "#model outcome\n",
    "pred_afr = len(odds_pos[odds_pos > 0])/len(odds_pos)\n",
    "pred_cau = len(odds_neg[odds_neg > 0])/len(odds_neg)\n",
    "print('Positive outcome - African American:',pred_afr)\n",
    "print('Positive outcome - Caucasian:', pred_cau)"
   ]
  },
  {
   "cell_type": "code",
   "execution_count": 19,
   "id": "734199ea",
   "metadata": {},
   "outputs": [
    {
     "name": "stdout",
     "output_type": "stream",
     "text": [
      "Positive outcome - African American: 0.5339329517579722\n",
      "Positive outcome - Caucasian: 0.3754646840148699\n"
     ]
    }
   ],
   "source": [
    "#true values\n",
    "true_afr = len(y_pos[y_pos > 0])/len(y_pos)\n",
    "true_cau = len(y_neg[y_neg > 0])/len(y_neg)\n",
    "print('Positive outcome - African American:',true_afr)\n",
    "print('Positive outcome - Caucasian:', true_cau)"
   ]
  },
  {
   "cell_type": "code",
   "execution_count": null,
   "id": "9031fae4",
   "metadata": {},
   "outputs": [],
   "source": []
  }
 ],
 "metadata": {
  "kernelspec": {
   "display_name": "Python 3",
   "language": "python",
   "name": "python3"
  },
  "language_info": {
   "codemirror_mode": {
    "name": "ipython",
    "version": 3
   },
   "file_extension": ".py",
   "mimetype": "text/x-python",
   "name": "python",
   "nbconvert_exporter": "python",
   "pygments_lexer": "ipython3",
   "version": "3.8.1"
  }
 },
 "nbformat": 4,
 "nbformat_minor": 5
}
